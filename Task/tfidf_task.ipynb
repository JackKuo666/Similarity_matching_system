{
 "cells": [
  {
   "cell_type": "markdown",
   "metadata": {},
   "source": [
    "## 导包"
   ]
  },
  {
   "cell_type": "code",
   "execution_count": 2,
   "metadata": {},
   "outputs": [],
   "source": [
    "import jieba\n",
    "import pickle\n",
    "import numpy as np"
   ]
  },
  {
   "cell_type": "markdown",
   "metadata": {},
   "source": [
    "#### 将存的字典，tf值取出\n",
    "这里data.pk 是[tf-idf.ipynb](https://github.com/JackKuo666/Similarity_matching_system/blob/b4d070b86b1c102a3de7a7ceab723e8c2c9d807a/jieba_tfidf/tf-idf.ipynb)中的练习部分可以自己完成，也可以用其他格式保存（csv,json等）；其中all_dick是{分词：序号}，idf_dict是{分词:idf值}"
   ]
  },
  {
   "cell_type": "code",
   "execution_count": 7,
   "metadata": {
    "pycharm": {
     "is_executing": false
    },
    "scrolled": false
   },
   "outputs": [
    {
     "name": "stdout",
     "output_type": "stream",
     "text": [
      "[{'首付': 0}, {'g9650': 1}, {'n1': 2}, {'黑金': 3}, {'l880': 4}, {'ds': 5}, {'mate8': 6}, {'夹': 7}, {'价': 8}, {'3gram': 9}]\n",
      "[{'首付': 8.70631297394995}, {'g9650': 8.706252975149908}, {'n1': 8.706219224242849}, {'黑金': 8.706182537182249}, {'l880': 8.70631297394995}, {'ds': 8.706207973687352}, {'mate8': 8.70638796738806}, {'夹': 8.70638796738806}, {'价': 8.70631297394995}, {'3gram': 8.706237974887404}]\n"
     ]
    }
   ],
   "source": [
    "\n",
    "with open('data.pk', 'rb') as f:\n",
    "    all_dick, idf_dict = pickle.load(f)\n",
    "\n",
    "print([{i:all_dick[i]} for i in all_dick][:10])\n",
    "\n",
    "print([{i:idf_dict[i]} for i in idf_dict][:10])\n"
   ]
  },
  {
   "cell_type": "markdown",
   "metadata": {},
   "source": [
    "## 文件读取"
   ]
  },
  {
   "cell_type": "markdown",
   "metadata": {},
   "source": [
    "#### 按行读取文件"
   ]
  },
  {
   "cell_type": "code",
   "execution_count": 44,
   "metadata": {},
   "outputs": [],
   "source": [
    "# 按行读取文件\n",
    "def read_file(file_path):\n",
    "    with open(file_path, 'r', encoding='utf-8-sig') as f:\n",
    "        fina_outlist = [line.strip() for line in f.readlines()]\n",
    "    return fina_outlist"
   ]
  },
  {
   "cell_type": "markdown",
   "metadata": {},
   "source": [
    "#### 按每行读取，每一行按空格切分为一个list，组成2维列表。"
   ]
  },
  {
   "cell_type": "code",
   "execution_count": 45,
   "metadata": {},
   "outputs": [],
   "source": [
    "# 按每行读取，每一行按空格切分为一个list，组成2维列表。\n",
    "def read_file2matrix(file_path):\n",
    "    fina_outlist = []\n",
    "    with open(file_path, 'r', encoding='utf-8-sig') as f:\n",
    "        for line in f.readlines():\n",
    "            outlist = [float(i) for i in line.strip().split(' ') if i != ' ']\n",
    "            fina_outlist.append(outlist)\n",
    "    return fina_outlist"
   ]
  },
  {
   "cell_type": "markdown",
   "metadata": {},
   "source": [
    "## 分词"
   ]
  },
  {
   "cell_type": "markdown",
   "metadata": {},
   "source": [
    "#### 加载自定义词典"
   ]
  },
  {
   "cell_type": "code",
   "execution_count": 46,
   "metadata": {
    "scrolled": false
   },
   "outputs": [],
   "source": [
    "jieba.load_userdict(\"userdict.txt\")"
   ]
  },
  {
   "cell_type": "markdown",
   "metadata": {},
   "source": [
    "#### 去停用词"
   ]
  },
  {
   "cell_type": "code",
   "execution_count": 47,
   "metadata": {},
   "outputs": [],
   "source": [
    "# 将停用词读出放在stopwords这个列表中\n",
    "filepath = r'stopwords.txt'\n",
    "stopwords = [line.strip() for line in open(filepath, 'r', encoding='utf-8').readlines()]"
   ]
  },
  {
   "cell_type": "markdown",
   "metadata": {},
   "source": [
    "#### 搜索模式分词"
   ]
  },
  {
   "cell_type": "code",
   "execution_count": 48,
   "metadata": {},
   "outputs": [],
   "source": [
    "def split_words(words):\n",
    "    word_list = jieba.cut_for_search(words.lower().strip(),HMM=True)\n",
    "    word_list = [i for i in word_list if i not in stopwords and i!=' '] \n",
    "    return word_list"
   ]
  },
  {
   "cell_type": "markdown",
   "metadata": {},
   "source": [
    "## tfidf"
   ]
  },
  {
   "cell_type": "markdown",
   "metadata": {},
   "source": [
    "#### 统计词频"
   ]
  },
  {
   "cell_type": "code",
   "execution_count": 49,
   "metadata": {},
   "outputs": [],
   "source": [
    "# 统计词频，并返回字典\n",
    "def make_word_freq(word_list):\n",
    "    freword = {}\n",
    "    for i in word_list:\n",
    "        if str(i) in freword:\n",
    "            freword[str(i)] += 1\n",
    "        else:\n",
    "            freword[str(i)] = 1\n",
    "    return freword"
   ]
  },
  {
   "cell_type": "markdown",
   "metadata": {},
   "source": [
    "#### 计算tfidf值"
   ]
  },
  {
   "cell_type": "code",
   "execution_count": 50,
   "metadata": {},
   "outputs": [],
   "source": [
    "# 计算tfidf,组成tfidf矩阵\n",
    "def make_tfidf(word_list,all_dick,idf_dict):\n",
    "    length = len(word_list)\n",
    "    word_list = [word for word in word_list if word in all_dick]\n",
    "    word_freq = make_word_freq(word_list)\n",
    "    w_dic = np.zeros(len(all_dick))\n",
    "    for word in word_list:\n",
    "        ind = all_dick[word]\n",
    "        idf = idf_dict[word]\n",
    "        w_dic[ind] = float(word_freq[word]/length)*float(idf)\n",
    "    return w_dic"
   ]
  },
  {
   "cell_type": "markdown",
   "metadata": {},
   "source": [
    "## 相似度计算"
   ]
  },
  {
   "cell_type": "markdown",
   "metadata": {},
   "source": [
    "#### 余弦相似度"
   ]
  },
  {
   "cell_type": "code",
   "execution_count": 51,
   "metadata": {},
   "outputs": [],
   "source": [
    "# 基于numpy的余弦相似性计算\n",
    "def Cos_Distance(vector1, vector2):\n",
    "    vec1 = np.array(vector1)\n",
    "    vec2 = np.array(vector2)\n",
    "    return float(np.sum(vec1 * vec2)) / (np.linalg.norm(vec1) * np.linalg.norm(vec2))"
   ]
  },
  {
   "cell_type": "markdown",
   "metadata": {},
   "source": [
    "#### 计算相似度"
   ]
  },
  {
   "cell_type": "code",
   "execution_count": 52,
   "metadata": {},
   "outputs": [],
   "source": [
    "# 计算相似度\n",
    "def similarity_words(vec, vecs_list):\n",
    "    Similarity_list = []\n",
    "    for vec_i in vecs_list:\n",
    "        Similarity = Cos_Distance(vec, vec_i)\n",
    "        Similarity_list.append(Similarity)\n",
    "    return Similarity_list"
   ]
  },
  {
   "cell_type": "markdown",
   "metadata": {},
   "source": [
    "## 主函数"
   ]
  },
  {
   "cell_type": "code",
   "execution_count": 53,
   "metadata": {},
   "outputs": [],
   "source": [
    "def main(words, file_path, readed_path):\n",
    "    words_list = read_file(file_path)                    \n",
    "    # 按行读取文本\n",
    "    # ['Apple iPhone 8 Plus (A1864) 64GB 深空灰色 移动联通电信4G手机', '荣耀 畅玩7X 4GB+32GB 全网通4G全面屏手机 标配版 铂光金', 'Apple iPhone 8 (A1863) 64GB 深空灰色 移动联通电信4G手机', 'Apple iPhone 7 Plus (A1661) 128G 黑色 移动联通电信4G手机',  \n",
    "    \n",
    "    vecs_list = read_file2matrix(readed_path)\n",
    "    # 按行读取tf-idf词袋 \n",
    "    # [[0.0, 0.0, 0.0, 0.0, 0.0, 0.0, 0.0, 0.0, 0.0, 0.0, 0.0, 0.0, 0.0, 0.0, 0.0, 0.0, 0.0, 0.0, 0.0, 0.0, 0.0, 0.0, 0.0, 0.0, 0.0, 0.0, 0.0, 0.0, 0.0, 0.0, 0.0, 0.0, 0.0, 0.0, 0.0, 0.0, 0.0, 0.791469566521, 0.0, 0.0, 0.0, 0.0, 0.0, 0.0\n",
    "    \n",
    "    word_list = split_words(words)\n",
    "    # 待对比语句读取并放在list里\n",
    "    # ['apple', 'iphone', 'plus', 'a1864', '64gb', '深空', '灰色', '联通', '电信', '4g']\n",
    "    \n",
    "    vec = make_tfidf(word_list,all_dick,idf_dict)\n",
    "    # 计算tfidf,组成tfidf矩阵\n",
    "    \"\"\"\n",
    "      0.          0.          0.          0.          0.          0.          0.\n",
    "  0.          0.          0.          0.          0.          0.          0.\n",
    "  0.          0.          0.          0.          0.          0.          0.\n",
    "  0.          0.          0.          0.          0.          0.          0.\n",
    "  0.          0.          0.          0.          0.          0.          0.\n",
    "  0.          0.          0.79146957  0. \n",
    "    \n",
    "    \"\"\"\n",
    "    \n",
    "    similarity_lists = similarity_words(vec, vecs_list)\n",
    "    # 计算相似度\n",
    "    # [1.0000000000000002, 0.16116438715917517, 0.85811543720398442, 0.66742265521921251, 0.39477066819942941, 0.60302174693627475, 0.81818098341043122, 0.43081962853380523, 0.35533402523151619, 0.17407746930651016]\n",
    "    \n",
    "    sorted_res = sorted(enumerate(similarity_lists), key=lambda x: x[1])\n",
    "    # 从小到大排序\n",
    "    # [(84, 0.0), (87, 0.0), (92, 0.0), (119, 0.0), (134, 0.0), (138, 0.0), (162, 0.0), (294, 0.0), (431, 0.0), (579, 0.0)]\n",
    "        \n",
    "    outputs = [[words_list[i[0]],i[1]] for i in sorted_res[-10:]]\n",
    "    # 按刚才的顺序取回最后10个句子和相似度\n",
    "    # [['Apple iPhone 7 Plus (A1661) 128G 黑色 移动联通电信4G手机', 0.66742265521921251]\n",
    "    \n",
    "    \n",
    "    return outputs  "
   ]
  },
  {
   "cell_type": "markdown",
   "metadata": {},
   "source": [
    "## 测试"
   ]
  },
  {
   "cell_type": "code",
   "execution_count": 54,
   "metadata": {
    "scrolled": true
   },
   "outputs": [
    {
     "name": "stdout",
     "output_type": "stream",
     "text": [
      "Apple iPhone 8 Plus (A1864) 64GB 深空灰色 移动联通电信4G手机     1.0\n",
      "Apple iPhone 8 (A1863) 64GB 深空灰色 移动联通电信4G手机     0.858115437204\n",
      "Apple iPhone X (A1865) 64GB 深空灰色 移动联通电信4G手机     0.81818098341\n",
      "Apple iPhone X (A1865) 64GB 深空灰色 移动联通电信4G手机     0.81818098341\n",
      "Apple 苹果 iPhone 8 Plus移动联通电信4G手机 深空灰 官方标配 64GB     0.752617241065\n",
      "苹果（Apple） iPhone 8 Plus  移动联通电信4G手机 深空灰 全网通(64GB)     0.725240200407\n",
      "Apple 苹果8Plus  iPhone8 Plus 移动联通电信4G 手机 深空灰色 全网通 64GB     0.700648432367\n",
      "Apple 苹果 iPhone X 全面屏4G手机 深空灰色 64GB     0.667423476215\n",
      "Apple iPhone 7 Plus (A1661) 128G 黑色 移动联通电信4G手机     0.667422655219\n",
      "Apple iPhone 7 Plus (A1661) 128G 黑色 移动联通电信4G手机     0.667422655219\n"
     ]
    }
   ],
   "source": [
    "# words = '小米8 全面屏游戏智能手机 6GB+128GB 黑色 全网通4G 双卡双待  拍照手机'\n",
    "# words = '荣耀 畅玩7X 4GB+32GB 全网通4G全面屏手机 标配版 铂光金'\n",
    "words = 'Apple iPhone 8 Plus (A1864) 64GB 深空灰色 移动联通电信4G手机'\n",
    "# words = '小米8'\n",
    "# words = \"黑色手机\"\n",
    "# words = 'Apple iPhone 8'\n",
    "# words = '索尼 sony'\n",
    "file_path = r'MobilePhoneTitle.txt'                     # 已经分词的文本\n",
    "readed_path = r\"MobilePhoneTitle_tfidf.txt\"     # 已经分词的文本转成tiidf的词袋\n",
    "outputs = main(words, file_path, readed_path)\n",
    "# print(outputs)\n",
    "for i in outputs[::-1]:                                           # 将句子逆序并打印出来\n",
    "    print(i[0] + '     ' + str(i[1]))"
   ]
  },
  {
   "cell_type": "code",
   "execution_count": null,
   "metadata": {},
   "outputs": [],
   "source": []
  },
  {
   "cell_type": "code",
   "execution_count": null,
   "metadata": {},
   "outputs": [],
   "source": []
  }
 ],
 "metadata": {
  "kernelspec": {
   "display_name": "Python 3",
   "language": "python",
   "name": "python3"
  },
  "language_info": {
   "codemirror_mode": {
    "name": "ipython",
    "version": 3
   },
   "file_extension": ".py",
   "mimetype": "text/x-python",
   "name": "python",
   "nbconvert_exporter": "python",
   "pygments_lexer": "ipython3",
   "version": "3.7.7"
  },
  "pycharm": {
   "stem_cell": {
    "cell_type": "raw",
    "metadata": {
     "collapsed": false
    },
    "source": []
   }
  }
 },
 "nbformat": 4,
 "nbformat_minor": 2
}
